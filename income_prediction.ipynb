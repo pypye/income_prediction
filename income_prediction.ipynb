{
  "nbformat": 4,
  "nbformat_minor": 0,
  "metadata": {
    "colab": {
      "name": "PhoBERT-Extraction.ipynb",
      "provenance": [],
      "collapsed_sections": []
    },
    "kernelspec": {
      "name": "python3",
      "display_name": "Python 3"
    },
    "language_info": {
      "name": "python"
    },
    "accelerator": "GPU"
  },
  "cells": [
    {
      "cell_type": "markdown",
      "source": [
        "**Install lib**"
      ],
      "metadata": {
        "id": "27lAEBoVi_Lw"
      }
    },
    {
      "cell_type": "code",
      "source": [
        "!pip install tsfresh\n"
      ],
      "metadata": {
        "colab": {
          "base_uri": "https://localhost:8080/"
        },
        "id": "XrlbBd_BQyYx",
        "outputId": "07454bb1-2ef9-498a-ef1f-7a57af4c967f"
      },
      "execution_count": null,
      "outputs": [
        {
          "output_type": "stream",
          "name": "stdout",
          "text": [
            "Requirement already satisfied: tsfresh in /usr/local/lib/python3.7/dist-packages (0.19.0)\n",
            "Requirement already satisfied: numpy>=1.15.1 in /usr/local/lib/python3.7/dist-packages (from tsfresh) (1.21.6)\n",
            "Requirement already satisfied: matrixprofile<2.0.0,>=1.1.10 in /usr/local/lib/python3.7/dist-packages (from tsfresh) (1.1.10)\n",
            "Requirement already satisfied: scikit-learn>=0.22.0 in /usr/local/lib/python3.7/dist-packages (from tsfresh) (1.0.2)\n",
            "Requirement already satisfied: requests>=2.9.1 in /usr/local/lib/python3.7/dist-packages (from tsfresh) (2.23.0)\n",
            "Requirement already satisfied: patsy>=0.4.1 in /usr/local/lib/python3.7/dist-packages (from tsfresh) (0.5.2)\n",
            "Requirement already satisfied: tqdm>=4.10.0 in /usr/local/lib/python3.7/dist-packages (from tsfresh) (4.64.0)\n",
            "Requirement already satisfied: stumpy>=1.7.2 in /usr/local/lib/python3.7/dist-packages (from tsfresh) (1.11.1)\n",
            "Requirement already satisfied: distributed>=2.11.0 in /usr/local/lib/python3.7/dist-packages (from tsfresh) (2.30.1)\n",
            "Requirement already satisfied: scipy>=1.2.0 in /usr/local/lib/python3.7/dist-packages (from tsfresh) (1.7.3)\n",
            "Requirement already satisfied: cloudpickle in /usr/local/lib/python3.7/dist-packages (from tsfresh) (2.0.0)\n",
            "Requirement already satisfied: dask[dataframe]>=2.9.0 in /usr/local/lib/python3.7/dist-packages (from tsfresh) (2.12.0)\n",
            "Requirement already satisfied: statsmodels>=0.13 in /usr/local/lib/python3.7/dist-packages (from tsfresh) (0.13.2)\n",
            "Requirement already satisfied: pandas>=0.25.0 in /usr/local/lib/python3.7/dist-packages (from tsfresh) (1.3.5)\n",
            "Requirement already satisfied: fsspec>=0.6.0 in /usr/local/lib/python3.7/dist-packages (from dask[dataframe]>=2.9.0->tsfresh) (2022.3.0)\n",
            "Requirement already satisfied: toolz>=0.7.3 in /usr/local/lib/python3.7/dist-packages (from dask[dataframe]>=2.9.0->tsfresh) (0.11.2)\n",
            "Requirement already satisfied: partd>=0.3.10 in /usr/local/lib/python3.7/dist-packages (from dask[dataframe]>=2.9.0->tsfresh) (1.2.0)\n",
            "Requirement already satisfied: zict>=0.1.3 in /usr/local/lib/python3.7/dist-packages (from distributed>=2.11.0->tsfresh) (2.1.0)\n",
            "Requirement already satisfied: click>=6.6 in /usr/local/lib/python3.7/dist-packages (from distributed>=2.11.0->tsfresh) (7.1.2)\n",
            "Requirement already satisfied: msgpack>=0.6.0 in /usr/local/lib/python3.7/dist-packages (from distributed>=2.11.0->tsfresh) (1.0.3)\n",
            "Requirement already satisfied: tblib>=1.6.0 in /usr/local/lib/python3.7/dist-packages (from distributed>=2.11.0->tsfresh) (1.7.0)\n",
            "Requirement already satisfied: psutil>=5.0 in /usr/local/lib/python3.7/dist-packages (from distributed>=2.11.0->tsfresh) (5.4.8)\n",
            "Requirement already satisfied: sortedcontainers!=2.0.0,!=2.0.1 in /usr/local/lib/python3.7/dist-packages (from distributed>=2.11.0->tsfresh) (2.4.0)\n",
            "Requirement already satisfied: tornado>=5 in /usr/local/lib/python3.7/dist-packages (from distributed>=2.11.0->tsfresh) (5.1.1)\n",
            "Requirement already satisfied: pyyaml in /usr/local/lib/python3.7/dist-packages (from distributed>=2.11.0->tsfresh) (3.13)\n",
            "Requirement already satisfied: setuptools in /usr/local/lib/python3.7/dist-packages (from distributed>=2.11.0->tsfresh) (57.4.0)\n",
            "Requirement already satisfied: matplotlib>=3.0.3 in /usr/local/lib/python3.7/dist-packages (from matrixprofile<2.0.0,>=1.1.10->tsfresh) (3.2.2)\n",
            "Requirement already satisfied: protobuf==3.11.2 in /usr/local/lib/python3.7/dist-packages (from matrixprofile<2.0.0,>=1.1.10->tsfresh) (3.11.2)\n",
            "Requirement already satisfied: six>=1.9 in /usr/local/lib/python3.7/dist-packages (from protobuf==3.11.2->matrixprofile<2.0.0,>=1.1.10->tsfresh) (1.15.0)\n",
            "Requirement already satisfied: cycler>=0.10 in /usr/local/lib/python3.7/dist-packages (from matplotlib>=3.0.3->matrixprofile<2.0.0,>=1.1.10->tsfresh) (0.11.0)\n",
            "Requirement already satisfied: pyparsing!=2.0.4,!=2.1.2,!=2.1.6,>=2.0.1 in /usr/local/lib/python3.7/dist-packages (from matplotlib>=3.0.3->matrixprofile<2.0.0,>=1.1.10->tsfresh) (3.0.8)\n",
            "Requirement already satisfied: python-dateutil>=2.1 in /usr/local/lib/python3.7/dist-packages (from matplotlib>=3.0.3->matrixprofile<2.0.0,>=1.1.10->tsfresh) (2.8.2)\n",
            "Requirement already satisfied: kiwisolver>=1.0.1 in /usr/local/lib/python3.7/dist-packages (from matplotlib>=3.0.3->matrixprofile<2.0.0,>=1.1.10->tsfresh) (1.4.2)\n",
            "Requirement already satisfied: typing-extensions in /usr/local/lib/python3.7/dist-packages (from kiwisolver>=1.0.1->matplotlib>=3.0.3->matrixprofile<2.0.0,>=1.1.10->tsfresh) (4.1.1)\n",
            "Requirement already satisfied: pytz>=2017.3 in /usr/local/lib/python3.7/dist-packages (from pandas>=0.25.0->tsfresh) (2022.1)\n",
            "Requirement already satisfied: locket in /usr/local/lib/python3.7/dist-packages (from partd>=0.3.10->dask[dataframe]>=2.9.0->tsfresh) (1.0.0)\n",
            "Requirement already satisfied: chardet<4,>=3.0.2 in /usr/local/lib/python3.7/dist-packages (from requests>=2.9.1->tsfresh) (3.0.4)\n",
            "Requirement already satisfied: idna<3,>=2.5 in /usr/local/lib/python3.7/dist-packages (from requests>=2.9.1->tsfresh) (2.10)\n",
            "Requirement already satisfied: certifi>=2017.4.17 in /usr/local/lib/python3.7/dist-packages (from requests>=2.9.1->tsfresh) (2021.10.8)\n",
            "Requirement already satisfied: urllib3!=1.25.0,!=1.25.1,<1.26,>=1.21.1 in /usr/local/lib/python3.7/dist-packages (from requests>=2.9.1->tsfresh) (1.24.3)\n",
            "Requirement already satisfied: joblib>=0.11 in /usr/local/lib/python3.7/dist-packages (from scikit-learn>=0.22.0->tsfresh) (1.1.0)\n",
            "Requirement already satisfied: threadpoolctl>=2.0.0 in /usr/local/lib/python3.7/dist-packages (from scikit-learn>=0.22.0->tsfresh) (3.1.0)\n",
            "Requirement already satisfied: packaging>=21.3 in /usr/local/lib/python3.7/dist-packages (from statsmodels>=0.13->tsfresh) (21.3)\n",
            "Requirement already satisfied: numba>=0.54 in /usr/local/lib/python3.7/dist-packages (from stumpy>=1.7.2->tsfresh) (0.55.1)\n",
            "Requirement already satisfied: llvmlite<0.39,>=0.38.0rc1 in /usr/local/lib/python3.7/dist-packages (from numba>=0.54->stumpy>=1.7.2->tsfresh) (0.38.0)\n",
            "Requirement already satisfied: heapdict in /usr/local/lib/python3.7/dist-packages (from zict>=0.1.3->distributed>=2.11.0->tsfresh) (1.0.1)\n"
          ]
        }
      ]
    },
    {
      "cell_type": "code",
      "source": [
        "from google.colab import drive\n",
        "drive.mount('/content/drive')"
      ],
      "metadata": {
        "colab": {
          "base_uri": "https://localhost:8080/"
        },
        "id": "_el0saKY2utj",
        "outputId": "133babf2-3a5b-4a07-8103-a28f485c55f7"
      },
      "execution_count": null,
      "outputs": [
        {
          "output_type": "stream",
          "name": "stdout",
          "text": [
            "Mounted at /content/drive\n"
          ]
        }
      ]
    },
    {
      "cell_type": "code",
      "source": [
        "%pip install -U --no-cache-dir gdown --pre"
      ],
      "metadata": {
        "colab": {
          "base_uri": "https://localhost:8080/"
        },
        "id": "CVKi031ovz7m",
        "outputId": "530010be-9df0-4f65-df74-5c3a3b74f329"
      },
      "execution_count": null,
      "outputs": [
        {
          "output_type": "stream",
          "name": "stdout",
          "text": [
            "Requirement already satisfied: gdown in /usr/local/lib/python3.7/dist-packages (4.4.0)\n",
            "Requirement already satisfied: tqdm in /usr/local/lib/python3.7/dist-packages (from gdown) (4.64.0)\n",
            "Requirement already satisfied: requests[socks] in /usr/local/lib/python3.7/dist-packages (from gdown) (2.23.0)\n",
            "Requirement already satisfied: beautifulsoup4 in /usr/local/lib/python3.7/dist-packages (from gdown) (4.6.3)\n",
            "Requirement already satisfied: filelock in /usr/local/lib/python3.7/dist-packages (from gdown) (3.6.0)\n",
            "Requirement already satisfied: six in /usr/local/lib/python3.7/dist-packages (from gdown) (1.15.0)\n",
            "Requirement already satisfied: chardet<4,>=3.0.2 in /usr/local/lib/python3.7/dist-packages (from requests[socks]->gdown) (3.0.4)\n",
            "Requirement already satisfied: certifi>=2017.4.17 in /usr/local/lib/python3.7/dist-packages (from requests[socks]->gdown) (2021.10.8)\n",
            "Requirement already satisfied: urllib3!=1.25.0,!=1.25.1,<1.26,>=1.21.1 in /usr/local/lib/python3.7/dist-packages (from requests[socks]->gdown) (1.24.3)\n",
            "Requirement already satisfied: idna<3,>=2.5 in /usr/local/lib/python3.7/dist-packages (from requests[socks]->gdown) (2.10)\n",
            "Requirement already satisfied: PySocks!=1.5.7,>=1.5.6 in /usr/local/lib/python3.7/dist-packages (from requests[socks]->gdown) (1.7.1)\n"
          ]
        }
      ]
    },
    {
      "cell_type": "code",
      "source": [
        "!gdown https://drive.google.com/a/gm.uit.edu.vn/uc?id=1pXJZ9eHp6DWkQ5MhCzmWYsKyLQEDiodz&export=download\n",
        "!tar xzf /content/vn_sbert_deploy.tar.gz"
      ],
      "metadata": {
        "id": "V1HkR7P5wJfx"
      },
      "execution_count": null,
      "outputs": []
    },
    {
      "cell_type": "code",
      "source": [
        "!pip -q install transformers\n",
        "!pip -q install vncorenlp\n",
        "!pip -q install fairseq\n",
        "!pip -q install fastBPE\n",
        "\n",
        "!pip -q install fastapi\n",
        "!pip -q install uvicorn\n",
        "!pip -q install pyngrok\n",
        "!pip -q install pyyaml==5.4.1 \n"
      ],
      "metadata": {
        "id": "GJ6WtJCuwV0B"
      },
      "execution_count": null,
      "outputs": []
    },
    {
      "cell_type": "code",
      "source": [
        "!pip install category_encoders"
      ],
      "metadata": {
        "colab": {
          "base_uri": "https://localhost:8080/"
        },
        "id": "acJ9seNt3OKS",
        "outputId": "530808b6-65a1-4144-b49e-e7aea95b7599"
      },
      "execution_count": null,
      "outputs": [
        {
          "output_type": "stream",
          "name": "stdout",
          "text": [
            "Requirement already satisfied: category_encoders in /usr/local/lib/python3.7/dist-packages (2.4.0)\n",
            "Requirement already satisfied: scikit-learn>=0.20.0 in /usr/local/lib/python3.7/dist-packages (from category_encoders) (1.0.2)\n",
            "Requirement already satisfied: pandas>=0.21.1 in /usr/local/lib/python3.7/dist-packages (from category_encoders) (1.3.5)\n",
            "Requirement already satisfied: scipy>=1.0.0 in /usr/local/lib/python3.7/dist-packages (from category_encoders) (1.7.3)\n",
            "Requirement already satisfied: statsmodels>=0.9.0 in /usr/local/lib/python3.7/dist-packages (from category_encoders) (0.13.2)\n",
            "Requirement already satisfied: patsy>=0.5.1 in /usr/local/lib/python3.7/dist-packages (from category_encoders) (0.5.2)\n",
            "Requirement already satisfied: numpy>=1.14.0 in /usr/local/lib/python3.7/dist-packages (from category_encoders) (1.21.6)\n",
            "Requirement already satisfied: pytz>=2017.3 in /usr/local/lib/python3.7/dist-packages (from pandas>=0.21.1->category_encoders) (2022.1)\n",
            "Requirement already satisfied: python-dateutil>=2.7.3 in /usr/local/lib/python3.7/dist-packages (from pandas>=0.21.1->category_encoders) (2.8.2)\n",
            "Requirement already satisfied: six in /usr/local/lib/python3.7/dist-packages (from patsy>=0.5.1->category_encoders) (1.15.0)\n",
            "Requirement already satisfied: threadpoolctl>=2.0.0 in /usr/local/lib/python3.7/dist-packages (from scikit-learn>=0.20.0->category_encoders) (3.1.0)\n",
            "Requirement already satisfied: joblib>=0.11 in /usr/local/lib/python3.7/dist-packages (from scikit-learn>=0.20.0->category_encoders) (1.1.0)\n",
            "Requirement already satisfied: packaging>=21.3 in /usr/local/lib/python3.7/dist-packages (from statsmodels>=0.9.0->category_encoders) (21.3)\n",
            "Requirement already satisfied: pyparsing!=3.0.5,>=2.0.2 in /usr/local/lib/python3.7/dist-packages (from packaging>=21.3->statsmodels>=0.9.0->category_encoders) (3.0.8)\n"
          ]
        }
      ]
    },
    {
      "cell_type": "code",
      "source": [
        "!mkdir -p vncorenlp/models/wordsegmenter\n",
        "!wget -q --show-progress https://raw.githubusercontent.com/vncorenlp/VnCoreNLP/master/VnCoreNLP-1.1.1.jar\n",
        "!wget -q --show-progress https://raw.githubusercontent.com/vncorenlp/VnCoreNLP/master/models/wordsegmenter/vi-vocab\n",
        "!wget -q --show-progress https://raw.githubusercontent.com/vncorenlp/VnCoreNLP/master/models/wordsegmenter/wordsegmenter.rdr\n",
        "!mv VnCoreNLP-1.1.1.jar vncorenlp/ \n",
        "!mv vi-vocab vncorenlp/models/wordsegmenter/\n",
        "!mv wordsegmenter.rdr vncorenlp/models/wordsegmenter/"
      ],
      "metadata": {
        "id": "F4eYtQcywhNH"
      },
      "execution_count": null,
      "outputs": []
    },
    {
      "cell_type": "code",
      "source": [
        "!git clone https://github.com/DatCanCode/sentence-transformers\n",
        "!cd sentence-transformers; pip install -e ."
      ],
      "metadata": {
        "id": "qP39lybHwl0B"
      },
      "execution_count": null,
      "outputs": []
    },
    {
      "cell_type": "markdown",
      "source": [
        "**Import lib**"
      ],
      "metadata": {
        "id": "HgLUb06ejGFJ"
      }
    },
    {
      "cell_type": "code",
      "source": [
        "import numpy as np\n",
        "import pandas as pd\n",
        "import tsfresh\n",
        "from sklearn.decomposition import PCA\n",
        "from sklearn.feature_extraction import DictVectorizer\n",
        "import category_encoders as ce\n"
      ],
      "metadata": {
        "id": "koJgYvK3V3OC"
      },
      "execution_count": null,
      "outputs": []
    },
    {
      "cell_type": "code",
      "source": [
        "import os\n",
        "print(os.getcwd())"
      ],
      "metadata": {
        "colab": {
          "base_uri": "https://localhost:8080/"
        },
        "id": "UBau0Tm02dkJ",
        "outputId": "28026fb7-086a-49cc-8681-43ba9636376c"
      },
      "execution_count": null,
      "outputs": [
        {
          "output_type": "stream",
          "name": "stdout",
          "text": [
            "/content\n"
          ]
        }
      ]
    },
    {
      "cell_type": "code",
      "source": [
        "train_work = pd.read_csv('/content/drive/MyDrive/Colab Notebooks/train_edited.csv')\n",
        "test_work = pd.read_csv('/content/drive/MyDrive/Colab Notebooks/test_edited.csv')"
      ],
      "metadata": {
        "id": "F3JS5N1IV3Dc"
      },
      "execution_count": null,
      "outputs": []
    },
    {
      "cell_type": "code",
      "source": [
        "train_work = train_work.sort_values(['id_bh', 'from_date'])\n",
        "test_work = test_work.sort_values(['id_bh', 'from_date'])\n",
        "\n",
        "train_work = train_work.reset_index(drop=True)\n",
        "test_work = test_work.reset_index(drop=True)"
      ],
      "metadata": {
        "id": "m1junED1b2oB"
      },
      "execution_count": null,
      "outputs": []
    },
    {
      "cell_type": "code",
      "source": [
        "train_work = train_work.fillna(-1)\n",
        "test_work = test_work.fillna(-1)"
      ],
      "metadata": {
        "id": "Cml9tWAt_329"
      },
      "execution_count": null,
      "outputs": []
    },
    {
      "cell_type": "code",
      "source": [
        "time_train = (train_work.groupby('id_bh').last()['to_date'] - train_work.groupby('id_bh').first()['from_date']).values\n",
        "time_test = (test_work.groupby('id_bh').last()['to_date'] - test_work.groupby('id_bh').first()['from_date']).values"
      ],
      "metadata": {
        "id": "iEAHlS2SqcJ_"
      },
      "execution_count": null,
      "outputs": []
    },
    {
      "cell_type": "code",
      "source": [
        "train_work "
      ],
      "metadata": {
        "colab": {
          "base_uri": "https://localhost:8080/",
          "height": 424
        },
        "id": "MifERpXvACnt",
        "outputId": "cd77eda8-05d3-4c3c-ebbe-eb1c53d48b3d"
      },
      "execution_count": null,
      "outputs": [
        {
          "output_type": "execute_result",
          "data": {
            "text/plain": [
              "        bithYear  gender       id_bh     id  id_management id_office  \\\n",
              "0           1963       0   100000725   4686            100    HW001Z   \n",
              "1           1963       0   100000725   4686            100    HW001Z   \n",
              "2           1963       0   100000725   4686            100    HW001Z   \n",
              "3           1963       0   100000725   4686            100    HW001Z   \n",
              "4           1963       0   100000725   4686            100    HW001Z   \n",
              "...          ...     ...         ...    ...            ...       ...   \n",
              "235386      1995       0  9820174207  17155           1900   TW0018Z   \n",
              "235387      1995       0  9820174207  17155           1900   TW0018Z   \n",
              "235388      1995       0  9820174207  17155           1900   HZ0000Z   \n",
              "235389      1995       0  9820174207  17155           1900   HZ0000Z   \n",
              "235390      1995       0  9820174207  17155           1900   TW0018Z   \n",
              "\n",
              "        company_type                       job/role  from_date   to_date  \\\n",
              "0                 -1                         bo doi   19830300  19870200   \n",
              "1                 -1                            hoc   19870300  19900500   \n",
              "2                 -1                       cong tac   19900600  19920800   \n",
              "3                 -1                         can su   19920900  19930300   \n",
              "4                 -1                         can su   19930400  19960800   \n",
              "...              ...                            ...        ...       ...   \n",
              "235386            -1     cong nhan cat got kim loai   20160600  20161200   \n",
              "235387            -1     cong nhan cat got kim loai   20170100  20170100   \n",
              "235388             6              chien si nghia vu   20170200  20190600   \n",
              "235389             6              chien si nghia vu   20190700  20200100   \n",
              "235390            -1  cong nhan khoan bao tien gang   20210300  20220400   \n",
              "\n",
              "        employee_lv  label  latitude  longitude  \n",
              "0                -1      5  16.16667  107.83333  \n",
              "1                -1      5  16.16667  107.83333  \n",
              "2                -1      5  16.16667  107.83333  \n",
              "3                 0      5  16.16667  107.83333  \n",
              "4                 4      5  16.16667  107.83333  \n",
              "...             ...    ...       ...        ...  \n",
              "235386            6      2  21.59422  105.84817  \n",
              "235387            7      2  21.59422  105.84817  \n",
              "235388            2      2  16.16667  107.83333  \n",
              "235389            2      2  16.16667  107.83333  \n",
              "235390            8      2  21.59422  105.84817  \n",
              "\n",
              "[235391 rows x 14 columns]"
            ],
            "text/html": [
              "\n",
              "  <div id=\"df-6a324c5c-b24d-45ba-a3f0-5dc9cf4cbdd8\">\n",
              "    <div class=\"colab-df-container\">\n",
              "      <div>\n",
              "<style scoped>\n",
              "    .dataframe tbody tr th:only-of-type {\n",
              "        vertical-align: middle;\n",
              "    }\n",
              "\n",
              "    .dataframe tbody tr th {\n",
              "        vertical-align: top;\n",
              "    }\n",
              "\n",
              "    .dataframe thead th {\n",
              "        text-align: right;\n",
              "    }\n",
              "</style>\n",
              "<table border=\"1\" class=\"dataframe\">\n",
              "  <thead>\n",
              "    <tr style=\"text-align: right;\">\n",
              "      <th></th>\n",
              "      <th>bithYear</th>\n",
              "      <th>gender</th>\n",
              "      <th>id_bh</th>\n",
              "      <th>id</th>\n",
              "      <th>id_management</th>\n",
              "      <th>id_office</th>\n",
              "      <th>company_type</th>\n",
              "      <th>job/role</th>\n",
              "      <th>from_date</th>\n",
              "      <th>to_date</th>\n",
              "      <th>employee_lv</th>\n",
              "      <th>label</th>\n",
              "      <th>latitude</th>\n",
              "      <th>longitude</th>\n",
              "    </tr>\n",
              "  </thead>\n",
              "  <tbody>\n",
              "    <tr>\n",
              "      <th>0</th>\n",
              "      <td>1963</td>\n",
              "      <td>0</td>\n",
              "      <td>100000725</td>\n",
              "      <td>4686</td>\n",
              "      <td>100</td>\n",
              "      <td>HW001Z</td>\n",
              "      <td>-1</td>\n",
              "      <td>bo doi</td>\n",
              "      <td>19830300</td>\n",
              "      <td>19870200</td>\n",
              "      <td>-1</td>\n",
              "      <td>5</td>\n",
              "      <td>16.16667</td>\n",
              "      <td>107.83333</td>\n",
              "    </tr>\n",
              "    <tr>\n",
              "      <th>1</th>\n",
              "      <td>1963</td>\n",
              "      <td>0</td>\n",
              "      <td>100000725</td>\n",
              "      <td>4686</td>\n",
              "      <td>100</td>\n",
              "      <td>HW001Z</td>\n",
              "      <td>-1</td>\n",
              "      <td>hoc</td>\n",
              "      <td>19870300</td>\n",
              "      <td>19900500</td>\n",
              "      <td>-1</td>\n",
              "      <td>5</td>\n",
              "      <td>16.16667</td>\n",
              "      <td>107.83333</td>\n",
              "    </tr>\n",
              "    <tr>\n",
              "      <th>2</th>\n",
              "      <td>1963</td>\n",
              "      <td>0</td>\n",
              "      <td>100000725</td>\n",
              "      <td>4686</td>\n",
              "      <td>100</td>\n",
              "      <td>HW001Z</td>\n",
              "      <td>-1</td>\n",
              "      <td>cong tac</td>\n",
              "      <td>19900600</td>\n",
              "      <td>19920800</td>\n",
              "      <td>-1</td>\n",
              "      <td>5</td>\n",
              "      <td>16.16667</td>\n",
              "      <td>107.83333</td>\n",
              "    </tr>\n",
              "    <tr>\n",
              "      <th>3</th>\n",
              "      <td>1963</td>\n",
              "      <td>0</td>\n",
              "      <td>100000725</td>\n",
              "      <td>4686</td>\n",
              "      <td>100</td>\n",
              "      <td>HW001Z</td>\n",
              "      <td>-1</td>\n",
              "      <td>can su</td>\n",
              "      <td>19920900</td>\n",
              "      <td>19930300</td>\n",
              "      <td>0</td>\n",
              "      <td>5</td>\n",
              "      <td>16.16667</td>\n",
              "      <td>107.83333</td>\n",
              "    </tr>\n",
              "    <tr>\n",
              "      <th>4</th>\n",
              "      <td>1963</td>\n",
              "      <td>0</td>\n",
              "      <td>100000725</td>\n",
              "      <td>4686</td>\n",
              "      <td>100</td>\n",
              "      <td>HW001Z</td>\n",
              "      <td>-1</td>\n",
              "      <td>can su</td>\n",
              "      <td>19930400</td>\n",
              "      <td>19960800</td>\n",
              "      <td>4</td>\n",
              "      <td>5</td>\n",
              "      <td>16.16667</td>\n",
              "      <td>107.83333</td>\n",
              "    </tr>\n",
              "    <tr>\n",
              "      <th>...</th>\n",
              "      <td>...</td>\n",
              "      <td>...</td>\n",
              "      <td>...</td>\n",
              "      <td>...</td>\n",
              "      <td>...</td>\n",
              "      <td>...</td>\n",
              "      <td>...</td>\n",
              "      <td>...</td>\n",
              "      <td>...</td>\n",
              "      <td>...</td>\n",
              "      <td>...</td>\n",
              "      <td>...</td>\n",
              "      <td>...</td>\n",
              "      <td>...</td>\n",
              "    </tr>\n",
              "    <tr>\n",
              "      <th>235386</th>\n",
              "      <td>1995</td>\n",
              "      <td>0</td>\n",
              "      <td>9820174207</td>\n",
              "      <td>17155</td>\n",
              "      <td>1900</td>\n",
              "      <td>TW0018Z</td>\n",
              "      <td>-1</td>\n",
              "      <td>cong nhan cat got kim loai</td>\n",
              "      <td>20160600</td>\n",
              "      <td>20161200</td>\n",
              "      <td>6</td>\n",
              "      <td>2</td>\n",
              "      <td>21.59422</td>\n",
              "      <td>105.84817</td>\n",
              "    </tr>\n",
              "    <tr>\n",
              "      <th>235387</th>\n",
              "      <td>1995</td>\n",
              "      <td>0</td>\n",
              "      <td>9820174207</td>\n",
              "      <td>17155</td>\n",
              "      <td>1900</td>\n",
              "      <td>TW0018Z</td>\n",
              "      <td>-1</td>\n",
              "      <td>cong nhan cat got kim loai</td>\n",
              "      <td>20170100</td>\n",
              "      <td>20170100</td>\n",
              "      <td>7</td>\n",
              "      <td>2</td>\n",
              "      <td>21.59422</td>\n",
              "      <td>105.84817</td>\n",
              "    </tr>\n",
              "    <tr>\n",
              "      <th>235388</th>\n",
              "      <td>1995</td>\n",
              "      <td>0</td>\n",
              "      <td>9820174207</td>\n",
              "      <td>17155</td>\n",
              "      <td>1900</td>\n",
              "      <td>HZ0000Z</td>\n",
              "      <td>6</td>\n",
              "      <td>chien si nghia vu</td>\n",
              "      <td>20170200</td>\n",
              "      <td>20190600</td>\n",
              "      <td>2</td>\n",
              "      <td>2</td>\n",
              "      <td>16.16667</td>\n",
              "      <td>107.83333</td>\n",
              "    </tr>\n",
              "    <tr>\n",
              "      <th>235389</th>\n",
              "      <td>1995</td>\n",
              "      <td>0</td>\n",
              "      <td>9820174207</td>\n",
              "      <td>17155</td>\n",
              "      <td>1900</td>\n",
              "      <td>HZ0000Z</td>\n",
              "      <td>6</td>\n",
              "      <td>chien si nghia vu</td>\n",
              "      <td>20190700</td>\n",
              "      <td>20200100</td>\n",
              "      <td>2</td>\n",
              "      <td>2</td>\n",
              "      <td>16.16667</td>\n",
              "      <td>107.83333</td>\n",
              "    </tr>\n",
              "    <tr>\n",
              "      <th>235390</th>\n",
              "      <td>1995</td>\n",
              "      <td>0</td>\n",
              "      <td>9820174207</td>\n",
              "      <td>17155</td>\n",
              "      <td>1900</td>\n",
              "      <td>TW0018Z</td>\n",
              "      <td>-1</td>\n",
              "      <td>cong nhan khoan bao tien gang</td>\n",
              "      <td>20210300</td>\n",
              "      <td>20220400</td>\n",
              "      <td>8</td>\n",
              "      <td>2</td>\n",
              "      <td>21.59422</td>\n",
              "      <td>105.84817</td>\n",
              "    </tr>\n",
              "  </tbody>\n",
              "</table>\n",
              "<p>235391 rows × 14 columns</p>\n",
              "</div>\n",
              "      <button class=\"colab-df-convert\" onclick=\"convertToInteractive('df-6a324c5c-b24d-45ba-a3f0-5dc9cf4cbdd8')\"\n",
              "              title=\"Convert this dataframe to an interactive table.\"\n",
              "              style=\"display:none;\">\n",
              "        \n",
              "  <svg xmlns=\"http://www.w3.org/2000/svg\" height=\"24px\"viewBox=\"0 0 24 24\"\n",
              "       width=\"24px\">\n",
              "    <path d=\"M0 0h24v24H0V0z\" fill=\"none\"/>\n",
              "    <path d=\"M18.56 5.44l.94 2.06.94-2.06 2.06-.94-2.06-.94-.94-2.06-.94 2.06-2.06.94zm-11 1L8.5 8.5l.94-2.06 2.06-.94-2.06-.94L8.5 2.5l-.94 2.06-2.06.94zm10 10l.94 2.06.94-2.06 2.06-.94-2.06-.94-.94-2.06-.94 2.06-2.06.94z\"/><path d=\"M17.41 7.96l-1.37-1.37c-.4-.4-.92-.59-1.43-.59-.52 0-1.04.2-1.43.59L10.3 9.45l-7.72 7.72c-.78.78-.78 2.05 0 2.83L4 21.41c.39.39.9.59 1.41.59.51 0 1.02-.2 1.41-.59l7.78-7.78 2.81-2.81c.8-.78.8-2.07 0-2.86zM5.41 20L4 18.59l7.72-7.72 1.47 1.35L5.41 20z\"/>\n",
              "  </svg>\n",
              "      </button>\n",
              "      \n",
              "  <style>\n",
              "    .colab-df-container {\n",
              "      display:flex;\n",
              "      flex-wrap:wrap;\n",
              "      gap: 12px;\n",
              "    }\n",
              "\n",
              "    .colab-df-convert {\n",
              "      background-color: #E8F0FE;\n",
              "      border: none;\n",
              "      border-radius: 50%;\n",
              "      cursor: pointer;\n",
              "      display: none;\n",
              "      fill: #1967D2;\n",
              "      height: 32px;\n",
              "      padding: 0 0 0 0;\n",
              "      width: 32px;\n",
              "    }\n",
              "\n",
              "    .colab-df-convert:hover {\n",
              "      background-color: #E2EBFA;\n",
              "      box-shadow: 0px 1px 2px rgba(60, 64, 67, 0.3), 0px 1px 3px 1px rgba(60, 64, 67, 0.15);\n",
              "      fill: #174EA6;\n",
              "    }\n",
              "\n",
              "    [theme=dark] .colab-df-convert {\n",
              "      background-color: #3B4455;\n",
              "      fill: #D2E3FC;\n",
              "    }\n",
              "\n",
              "    [theme=dark] .colab-df-convert:hover {\n",
              "      background-color: #434B5C;\n",
              "      box-shadow: 0px 1px 3px 1px rgba(0, 0, 0, 0.15);\n",
              "      filter: drop-shadow(0px 1px 2px rgba(0, 0, 0, 0.3));\n",
              "      fill: #FFFFFF;\n",
              "    }\n",
              "  </style>\n",
              "\n",
              "      <script>\n",
              "        const buttonEl =\n",
              "          document.querySelector('#df-6a324c5c-b24d-45ba-a3f0-5dc9cf4cbdd8 button.colab-df-convert');\n",
              "        buttonEl.style.display =\n",
              "          google.colab.kernel.accessAllowed ? 'block' : 'none';\n",
              "\n",
              "        async function convertToInteractive(key) {\n",
              "          const element = document.querySelector('#df-6a324c5c-b24d-45ba-a3f0-5dc9cf4cbdd8');\n",
              "          const dataTable =\n",
              "            await google.colab.kernel.invokeFunction('convertToInteractive',\n",
              "                                                     [key], {});\n",
              "          if (!dataTable) return;\n",
              "\n",
              "          const docLinkHtml = 'Like what you see? Visit the ' +\n",
              "            '<a target=\"_blank\" href=https://colab.research.google.com/notebooks/data_table.ipynb>data table notebook</a>'\n",
              "            + ' to learn more about interactive tables.';\n",
              "          element.innerHTML = '';\n",
              "          dataTable['output_type'] = 'display_data';\n",
              "          await google.colab.output.renderOutput(dataTable, element);\n",
              "          const docLink = document.createElement('div');\n",
              "          docLink.innerHTML = docLinkHtml;\n",
              "          element.appendChild(docLink);\n",
              "        }\n",
              "      </script>\n",
              "    </div>\n",
              "  </div>\n",
              "  "
            ]
          },
          "metadata": {},
          "execution_count": 50
        }
      ]
    },
    {
      "cell_type": "markdown",
      "source": [
        "**Time series**"
      ],
      "metadata": {
        "id": "jtC2ZkQHjcSb"
      }
    },
    {
      "cell_type": "code",
      "source": [
        "train_series = train_work[['id_bh','from_date','employee_lv']]\n",
        "test_series = test_work[['id_bh','from_date','employee_lv']]   \n",
        "  \n",
        "df_features = tsfresh.extract_features(train_series, column_id='id_bh', column_sort='from_date', default_fc_parameters=tsfresh.feature_extraction.MinimalFCParameters())\n",
        "df_features_test = tsfresh.extract_features(test_series, column_id='id_bh', column_sort='from_date', default_fc_parameters=tsfresh.feature_extraction.MinimalFCParameters())\n",
        "\n",
        "df_features['id_bh'] = df_features.index\n",
        "df_features_test['id_bh'] = df_features_test.index\n",
        "\n",
        "df_features.columns"
      ],
      "metadata": {
        "colab": {
          "base_uri": "https://localhost:8080/"
        },
        "id": "dTd_XhWdb64W",
        "outputId": "b5cf3659-ab78-4896-f142-3c8764235c1b"
      },
      "execution_count": null,
      "outputs": [
        {
          "output_type": "stream",
          "name": "stderr",
          "text": [
            "Feature Extraction: 100%|██████████| 27502/27502 [00:18<00:00, 1473.85it/s]\n",
            "Feature Extraction: 100%|██████████| 18134/18134 [00:14<00:00, 1294.02it/s]\n"
          ]
        },
        {
          "output_type": "execute_result",
          "data": {
            "text/plain": [
              "Index(['employee_lv__sum_values', 'employee_lv__median', 'employee_lv__mean',\n",
              "       'employee_lv__length', 'employee_lv__standard_deviation',\n",
              "       'employee_lv__variance', 'employee_lv__root_mean_square',\n",
              "       'employee_lv__maximum', 'employee_lv__absolute_maximum',\n",
              "       'employee_lv__minimum', 'id_bh'],\n",
              "      dtype='object')"
            ]
          },
          "metadata": {},
          "execution_count": 51
        }
      ]
    },
    {
      "cell_type": "markdown",
      "source": [
        "**Fill N/A**"
      ],
      "metadata": {
        "id": "WeScnnwkjljF"
      }
    },
    {
      "cell_type": "code",
      "source": [
        "train_work = train_work[train_work['id_bh'] != train_work['id_bh'].shift(-1)]\n",
        "test_work = test_work[test_work['id_bh'] != test_work['id_bh'].shift(-1)]"
      ],
      "metadata": {
        "id": "cVcmA0zb9NLA"
      },
      "execution_count": null,
      "outputs": []
    },
    {
      "cell_type": "code",
      "source": [
        "train_work['time'] = time_train\n",
        "test_work['time'] = time_test"
      ],
      "metadata": {
        "colab": {
          "base_uri": "https://localhost:8080/"
        },
        "id": "bCDvP9sMqXti",
        "outputId": "5cda68c4-49d2-471e-879d-c1e5d32bf442"
      },
      "execution_count": null,
      "outputs": [
        {
          "output_type": "stream",
          "name": "stderr",
          "text": [
            "/usr/local/lib/python3.7/dist-packages/ipykernel_launcher.py:1: SettingWithCopyWarning: \n",
            "A value is trying to be set on a copy of a slice from a DataFrame.\n",
            "Try using .loc[row_indexer,col_indexer] = value instead\n",
            "\n",
            "See the caveats in the documentation: https://pandas.pydata.org/pandas-docs/stable/user_guide/indexing.html#returning-a-view-versus-a-copy\n",
            "  \"\"\"Entry point for launching an IPython kernel.\n",
            "/usr/local/lib/python3.7/dist-packages/ipykernel_launcher.py:2: SettingWithCopyWarning: \n",
            "A value is trying to be set on a copy of a slice from a DataFrame.\n",
            "Try using .loc[row_indexer,col_indexer] = value instead\n",
            "\n",
            "See the caveats in the documentation: https://pandas.pydata.org/pandas-docs/stable/user_guide/indexing.html#returning-a-view-versus-a-copy\n",
            "  \n"
          ]
        }
      ]
    },
    {
      "cell_type": "code",
      "source": [
        "train_work = train_work.join(df_features.set_index('id_bh'), on='id_bh')\n",
        "test_work = test_work.join(df_features_test.set_index('id_bh'), on='id_bh')"
      ],
      "metadata": {
        "id": "pTy0EFDidKsw"
      },
      "execution_count": null,
      "outputs": []
    },
    {
      "cell_type": "markdown",
      "source": [
        "**Transform job/role**"
      ],
      "metadata": {
        "id": "ezM-Rq3Xkxgf"
      }
    },
    {
      "cell_type": "code",
      "source": [
        "all = train_work.append(test_work, ignore_index=True)\n",
        "all"
      ],
      "metadata": {
        "colab": {
          "base_uri": "https://localhost:8080/",
          "height": 904
        },
        "id": "H7mMNUMrPvSR",
        "outputId": "a5befb08-aae5-49fa-b8b5-d1cd5b519da8"
      },
      "execution_count": null,
      "outputs": [
        {
          "output_type": "execute_result",
          "data": {
            "text/plain": [
              "       bithYear  gender       id_bh     id  id_management id_office  \\\n",
              "0          1963       0   100000725   4686            100   HW01180   \n",
              "1          1971       0   100007067  29905           2400   TA0002A   \n",
              "2          1970       0   100007555   4503            109   TI3361I   \n",
              "3          1970       0   100008102   2939            100   HW0013Z   \n",
              "4          1965       0   100008777   8967            114   HN05360   \n",
              "...         ...     ...         ...    ...            ...       ...   \n",
              "45631      1984       0  9714758429   6662            101   TA7401A   \n",
              "45632      1987       0  9714758435    745            101   TA7401A   \n",
              "45633      1994       0  9715056070  49545            109   TI6860I   \n",
              "45634      1989       0  9715637756   8811            105   QZ04360   \n",
              "45635      1989       0  9716003602   7805            105   TE7166E   \n",
              "\n",
              "       company_type                                           job/role  \\\n",
              "0                 6                               chuyen vien chinh tp   \n",
              "1                 1                             nhan vien ban xang dau   \n",
              "2                -1                                          nhan vien   \n",
              "3                -1  chuyen vien chinh uy vien thuong truc uy ban t...   \n",
              "4                -1                 pho chu tich uy ban nhan dan huyen   \n",
              "...             ...                                                ...   \n",
              "45631             1  nhan vien ki thuat nha tram chi nhanh ki thuat...   \n",
              "45632             1  nhan vien ki thuat day may chi nhanh ki thuat ...   \n",
              "45633             1                                           giam doc   \n",
              "45634             1                              chuyen gia thi truong   \n",
              "45635             1                                              ki su   \n",
              "\n",
              "       from_date   to_date  ...  employee_lv__sum_values  employee_lv__median  \\\n",
              "0       20210600  20220400  ...                    148.0                  8.0   \n",
              "1       20190100  20220400  ...                     63.0                  6.0   \n",
              "2       20211000  20220400  ...                    102.0                  6.0   \n",
              "3       20200800  20220400  ...                    235.0                 13.5   \n",
              "4       20201000  20220400  ...                    204.0                 10.0   \n",
              "...          ...       ...  ...                      ...                  ...   \n",
              "45631   20200100  20220400  ...                     45.0                  9.0   \n",
              "45632   20210200  20210700  ...                     56.0                  9.5   \n",
              "45633   20190400  20220400  ...                     24.0                  5.0   \n",
              "45634   20220300  20220400  ...                     49.0                 10.0   \n",
              "45635   20200100  20210100  ...                     17.0                  8.5   \n",
              "\n",
              "       employee_lv__mean  employee_lv__length  \\\n",
              "0               8.222222                 18.0   \n",
              "1               6.300000                 10.0   \n",
              "2               6.000000                 17.0   \n",
              "3              11.750000                 20.0   \n",
              "4              10.200000                 20.0   \n",
              "...                  ...                  ...   \n",
              "45631           6.428571                  7.0   \n",
              "45632           7.000000                  8.0   \n",
              "45633           6.000000                  4.0   \n",
              "45634          12.250000                  4.0   \n",
              "45635           8.500000                  2.0   \n",
              "\n",
              "       employee_lv__standard_deviation  employee_lv__variance  \\\n",
              "0                             6.187403              38.283951   \n",
              "1                             1.615549               2.610000   \n",
              "2                             3.067860               9.411765   \n",
              "3                             3.766630              14.187500   \n",
              "4                             4.154516              17.260000   \n",
              "...                                ...                    ...   \n",
              "45631                         4.169863              17.387755   \n",
              "45632                         4.183300              17.500000   \n",
              "45633                         2.345208               5.500000   \n",
              "45634                         6.759253              45.687500   \n",
              "45635                         0.500000               0.250000   \n",
              "\n",
              "       employee_lv__root_mean_square  employee_lv__maximum  \\\n",
              "0                          10.290233                  17.0   \n",
              "1                           6.503845                   9.0   \n",
              "2                           6.738825                  11.0   \n",
              "3                          12.338963                  18.0   \n",
              "4                          11.013628                  17.0   \n",
              "...                              ...                   ...   \n",
              "45631                       7.662525                  11.0   \n",
              "45632                       8.154753                  11.0   \n",
              "45633                       6.442049                  10.0   \n",
              "45634                      13.991069                  23.0   \n",
              "45635                       8.514693                   9.0   \n",
              "\n",
              "       employee_lv__absolute_maximum  employee_lv__minimum  \n",
              "0                               17.0                  -1.0  \n",
              "1                                9.0                   4.0  \n",
              "2                               11.0                  -1.0  \n",
              "3                               18.0                   5.0  \n",
              "4                               17.0                   0.0  \n",
              "...                              ...                   ...  \n",
              "45631                           11.0                   1.0  \n",
              "45632                           11.0                   1.0  \n",
              "45633                           10.0                   4.0  \n",
              "45634                           23.0                   6.0  \n",
              "45635                            9.0                   8.0  \n",
              "\n",
              "[45636 rows x 25 columns]"
            ],
            "text/html": [
              "\n",
              "  <div id=\"df-a54d4f7a-3f1b-4630-b2f6-c9634dc996cb\">\n",
              "    <div class=\"colab-df-container\">\n",
              "      <div>\n",
              "<style scoped>\n",
              "    .dataframe tbody tr th:only-of-type {\n",
              "        vertical-align: middle;\n",
              "    }\n",
              "\n",
              "    .dataframe tbody tr th {\n",
              "        vertical-align: top;\n",
              "    }\n",
              "\n",
              "    .dataframe thead th {\n",
              "        text-align: right;\n",
              "    }\n",
              "</style>\n",
              "<table border=\"1\" class=\"dataframe\">\n",
              "  <thead>\n",
              "    <tr style=\"text-align: right;\">\n",
              "      <th></th>\n",
              "      <th>bithYear</th>\n",
              "      <th>gender</th>\n",
              "      <th>id_bh</th>\n",
              "      <th>id</th>\n",
              "      <th>id_management</th>\n",
              "      <th>id_office</th>\n",
              "      <th>company_type</th>\n",
              "      <th>job/role</th>\n",
              "      <th>from_date</th>\n",
              "      <th>to_date</th>\n",
              "      <th>...</th>\n",
              "      <th>employee_lv__sum_values</th>\n",
              "      <th>employee_lv__median</th>\n",
              "      <th>employee_lv__mean</th>\n",
              "      <th>employee_lv__length</th>\n",
              "      <th>employee_lv__standard_deviation</th>\n",
              "      <th>employee_lv__variance</th>\n",
              "      <th>employee_lv__root_mean_square</th>\n",
              "      <th>employee_lv__maximum</th>\n",
              "      <th>employee_lv__absolute_maximum</th>\n",
              "      <th>employee_lv__minimum</th>\n",
              "    </tr>\n",
              "  </thead>\n",
              "  <tbody>\n",
              "    <tr>\n",
              "      <th>0</th>\n",
              "      <td>1963</td>\n",
              "      <td>0</td>\n",
              "      <td>100000725</td>\n",
              "      <td>4686</td>\n",
              "      <td>100</td>\n",
              "      <td>HW01180</td>\n",
              "      <td>6</td>\n",
              "      <td>chuyen vien chinh tp</td>\n",
              "      <td>20210600</td>\n",
              "      <td>20220400</td>\n",
              "      <td>...</td>\n",
              "      <td>148.0</td>\n",
              "      <td>8.0</td>\n",
              "      <td>8.222222</td>\n",
              "      <td>18.0</td>\n",
              "      <td>6.187403</td>\n",
              "      <td>38.283951</td>\n",
              "      <td>10.290233</td>\n",
              "      <td>17.0</td>\n",
              "      <td>17.0</td>\n",
              "      <td>-1.0</td>\n",
              "    </tr>\n",
              "    <tr>\n",
              "      <th>1</th>\n",
              "      <td>1971</td>\n",
              "      <td>0</td>\n",
              "      <td>100007067</td>\n",
              "      <td>29905</td>\n",
              "      <td>2400</td>\n",
              "      <td>TA0002A</td>\n",
              "      <td>1</td>\n",
              "      <td>nhan vien ban xang dau</td>\n",
              "      <td>20190100</td>\n",
              "      <td>20220400</td>\n",
              "      <td>...</td>\n",
              "      <td>63.0</td>\n",
              "      <td>6.0</td>\n",
              "      <td>6.300000</td>\n",
              "      <td>10.0</td>\n",
              "      <td>1.615549</td>\n",
              "      <td>2.610000</td>\n",
              "      <td>6.503845</td>\n",
              "      <td>9.0</td>\n",
              "      <td>9.0</td>\n",
              "      <td>4.0</td>\n",
              "    </tr>\n",
              "    <tr>\n",
              "      <th>2</th>\n",
              "      <td>1970</td>\n",
              "      <td>0</td>\n",
              "      <td>100007555</td>\n",
              "      <td>4503</td>\n",
              "      <td>109</td>\n",
              "      <td>TI3361I</td>\n",
              "      <td>-1</td>\n",
              "      <td>nhan vien</td>\n",
              "      <td>20211000</td>\n",
              "      <td>20220400</td>\n",
              "      <td>...</td>\n",
              "      <td>102.0</td>\n",
              "      <td>6.0</td>\n",
              "      <td>6.000000</td>\n",
              "      <td>17.0</td>\n",
              "      <td>3.067860</td>\n",
              "      <td>9.411765</td>\n",
              "      <td>6.738825</td>\n",
              "      <td>11.0</td>\n",
              "      <td>11.0</td>\n",
              "      <td>-1.0</td>\n",
              "    </tr>\n",
              "    <tr>\n",
              "      <th>3</th>\n",
              "      <td>1970</td>\n",
              "      <td>0</td>\n",
              "      <td>100008102</td>\n",
              "      <td>2939</td>\n",
              "      <td>100</td>\n",
              "      <td>HW0013Z</td>\n",
              "      <td>-1</td>\n",
              "      <td>chuyen vien chinh uy vien thuong truc uy ban t...</td>\n",
              "      <td>20200800</td>\n",
              "      <td>20220400</td>\n",
              "      <td>...</td>\n",
              "      <td>235.0</td>\n",
              "      <td>13.5</td>\n",
              "      <td>11.750000</td>\n",
              "      <td>20.0</td>\n",
              "      <td>3.766630</td>\n",
              "      <td>14.187500</td>\n",
              "      <td>12.338963</td>\n",
              "      <td>18.0</td>\n",
              "      <td>18.0</td>\n",
              "      <td>5.0</td>\n",
              "    </tr>\n",
              "    <tr>\n",
              "      <th>4</th>\n",
              "      <td>1965</td>\n",
              "      <td>0</td>\n",
              "      <td>100008777</td>\n",
              "      <td>8967</td>\n",
              "      <td>114</td>\n",
              "      <td>HN05360</td>\n",
              "      <td>-1</td>\n",
              "      <td>pho chu tich uy ban nhan dan huyen</td>\n",
              "      <td>20201000</td>\n",
              "      <td>20220400</td>\n",
              "      <td>...</td>\n",
              "      <td>204.0</td>\n",
              "      <td>10.0</td>\n",
              "      <td>10.200000</td>\n",
              "      <td>20.0</td>\n",
              "      <td>4.154516</td>\n",
              "      <td>17.260000</td>\n",
              "      <td>11.013628</td>\n",
              "      <td>17.0</td>\n",
              "      <td>17.0</td>\n",
              "      <td>0.0</td>\n",
              "    </tr>\n",
              "    <tr>\n",
              "      <th>...</th>\n",
              "      <td>...</td>\n",
              "      <td>...</td>\n",
              "      <td>...</td>\n",
              "      <td>...</td>\n",
              "      <td>...</td>\n",
              "      <td>...</td>\n",
              "      <td>...</td>\n",
              "      <td>...</td>\n",
              "      <td>...</td>\n",
              "      <td>...</td>\n",
              "      <td>...</td>\n",
              "      <td>...</td>\n",
              "      <td>...</td>\n",
              "      <td>...</td>\n",
              "      <td>...</td>\n",
              "      <td>...</td>\n",
              "      <td>...</td>\n",
              "      <td>...</td>\n",
              "      <td>...</td>\n",
              "      <td>...</td>\n",
              "      <td>...</td>\n",
              "    </tr>\n",
              "    <tr>\n",
              "      <th>45631</th>\n",
              "      <td>1984</td>\n",
              "      <td>0</td>\n",
              "      <td>9714758429</td>\n",
              "      <td>6662</td>\n",
              "      <td>101</td>\n",
              "      <td>TA7401A</td>\n",
              "      <td>1</td>\n",
              "      <td>nhan vien ki thuat nha tram chi nhanh ki thuat...</td>\n",
              "      <td>20200100</td>\n",
              "      <td>20220400</td>\n",
              "      <td>...</td>\n",
              "      <td>45.0</td>\n",
              "      <td>9.0</td>\n",
              "      <td>6.428571</td>\n",
              "      <td>7.0</td>\n",
              "      <td>4.169863</td>\n",
              "      <td>17.387755</td>\n",
              "      <td>7.662525</td>\n",
              "      <td>11.0</td>\n",
              "      <td>11.0</td>\n",
              "      <td>1.0</td>\n",
              "    </tr>\n",
              "    <tr>\n",
              "      <th>45632</th>\n",
              "      <td>1987</td>\n",
              "      <td>0</td>\n",
              "      <td>9714758435</td>\n",
              "      <td>745</td>\n",
              "      <td>101</td>\n",
              "      <td>TA7401A</td>\n",
              "      <td>1</td>\n",
              "      <td>nhan vien ki thuat day may chi nhanh ki thuat ...</td>\n",
              "      <td>20210200</td>\n",
              "      <td>20210700</td>\n",
              "      <td>...</td>\n",
              "      <td>56.0</td>\n",
              "      <td>9.5</td>\n",
              "      <td>7.000000</td>\n",
              "      <td>8.0</td>\n",
              "      <td>4.183300</td>\n",
              "      <td>17.500000</td>\n",
              "      <td>8.154753</td>\n",
              "      <td>11.0</td>\n",
              "      <td>11.0</td>\n",
              "      <td>1.0</td>\n",
              "    </tr>\n",
              "    <tr>\n",
              "      <th>45633</th>\n",
              "      <td>1994</td>\n",
              "      <td>0</td>\n",
              "      <td>9715056070</td>\n",
              "      <td>49545</td>\n",
              "      <td>109</td>\n",
              "      <td>TI6860I</td>\n",
              "      <td>1</td>\n",
              "      <td>giam doc</td>\n",
              "      <td>20190400</td>\n",
              "      <td>20220400</td>\n",
              "      <td>...</td>\n",
              "      <td>24.0</td>\n",
              "      <td>5.0</td>\n",
              "      <td>6.000000</td>\n",
              "      <td>4.0</td>\n",
              "      <td>2.345208</td>\n",
              "      <td>5.500000</td>\n",
              "      <td>6.442049</td>\n",
              "      <td>10.0</td>\n",
              "      <td>10.0</td>\n",
              "      <td>4.0</td>\n",
              "    </tr>\n",
              "    <tr>\n",
              "      <th>45634</th>\n",
              "      <td>1989</td>\n",
              "      <td>0</td>\n",
              "      <td>9715637756</td>\n",
              "      <td>8811</td>\n",
              "      <td>105</td>\n",
              "      <td>QZ04360</td>\n",
              "      <td>1</td>\n",
              "      <td>chuyen gia thi truong</td>\n",
              "      <td>20220300</td>\n",
              "      <td>20220400</td>\n",
              "      <td>...</td>\n",
              "      <td>49.0</td>\n",
              "      <td>10.0</td>\n",
              "      <td>12.250000</td>\n",
              "      <td>4.0</td>\n",
              "      <td>6.759253</td>\n",
              "      <td>45.687500</td>\n",
              "      <td>13.991069</td>\n",
              "      <td>23.0</td>\n",
              "      <td>23.0</td>\n",
              "      <td>6.0</td>\n",
              "    </tr>\n",
              "    <tr>\n",
              "      <th>45635</th>\n",
              "      <td>1989</td>\n",
              "      <td>0</td>\n",
              "      <td>9716003602</td>\n",
              "      <td>7805</td>\n",
              "      <td>105</td>\n",
              "      <td>TE7166E</td>\n",
              "      <td>1</td>\n",
              "      <td>ki su</td>\n",
              "      <td>20200100</td>\n",
              "      <td>20210100</td>\n",
              "      <td>...</td>\n",
              "      <td>17.0</td>\n",
              "      <td>8.5</td>\n",
              "      <td>8.500000</td>\n",
              "      <td>2.0</td>\n",
              "      <td>0.500000</td>\n",
              "      <td>0.250000</td>\n",
              "      <td>8.514693</td>\n",
              "      <td>9.0</td>\n",
              "      <td>9.0</td>\n",
              "      <td>8.0</td>\n",
              "    </tr>\n",
              "  </tbody>\n",
              "</table>\n",
              "<p>45636 rows × 25 columns</p>\n",
              "</div>\n",
              "      <button class=\"colab-df-convert\" onclick=\"convertToInteractive('df-a54d4f7a-3f1b-4630-b2f6-c9634dc996cb')\"\n",
              "              title=\"Convert this dataframe to an interactive table.\"\n",
              "              style=\"display:none;\">\n",
              "        \n",
              "  <svg xmlns=\"http://www.w3.org/2000/svg\" height=\"24px\"viewBox=\"0 0 24 24\"\n",
              "       width=\"24px\">\n",
              "    <path d=\"M0 0h24v24H0V0z\" fill=\"none\"/>\n",
              "    <path d=\"M18.56 5.44l.94 2.06.94-2.06 2.06-.94-2.06-.94-.94-2.06-.94 2.06-2.06.94zm-11 1L8.5 8.5l.94-2.06 2.06-.94-2.06-.94L8.5 2.5l-.94 2.06-2.06.94zm10 10l.94 2.06.94-2.06 2.06-.94-2.06-.94-.94-2.06-.94 2.06-2.06.94z\"/><path d=\"M17.41 7.96l-1.37-1.37c-.4-.4-.92-.59-1.43-.59-.52 0-1.04.2-1.43.59L10.3 9.45l-7.72 7.72c-.78.78-.78 2.05 0 2.83L4 21.41c.39.39.9.59 1.41.59.51 0 1.02-.2 1.41-.59l7.78-7.78 2.81-2.81c.8-.78.8-2.07 0-2.86zM5.41 20L4 18.59l7.72-7.72 1.47 1.35L5.41 20z\"/>\n",
              "  </svg>\n",
              "      </button>\n",
              "      \n",
              "  <style>\n",
              "    .colab-df-container {\n",
              "      display:flex;\n",
              "      flex-wrap:wrap;\n",
              "      gap: 12px;\n",
              "    }\n",
              "\n",
              "    .colab-df-convert {\n",
              "      background-color: #E8F0FE;\n",
              "      border: none;\n",
              "      border-radius: 50%;\n",
              "      cursor: pointer;\n",
              "      display: none;\n",
              "      fill: #1967D2;\n",
              "      height: 32px;\n",
              "      padding: 0 0 0 0;\n",
              "      width: 32px;\n",
              "    }\n",
              "\n",
              "    .colab-df-convert:hover {\n",
              "      background-color: #E2EBFA;\n",
              "      box-shadow: 0px 1px 2px rgba(60, 64, 67, 0.3), 0px 1px 3px 1px rgba(60, 64, 67, 0.15);\n",
              "      fill: #174EA6;\n",
              "    }\n",
              "\n",
              "    [theme=dark] .colab-df-convert {\n",
              "      background-color: #3B4455;\n",
              "      fill: #D2E3FC;\n",
              "    }\n",
              "\n",
              "    [theme=dark] .colab-df-convert:hover {\n",
              "      background-color: #434B5C;\n",
              "      box-shadow: 0px 1px 3px 1px rgba(0, 0, 0, 0.15);\n",
              "      filter: drop-shadow(0px 1px 2px rgba(0, 0, 0, 0.3));\n",
              "      fill: #FFFFFF;\n",
              "    }\n",
              "  </style>\n",
              "\n",
              "      <script>\n",
              "        const buttonEl =\n",
              "          document.querySelector('#df-a54d4f7a-3f1b-4630-b2f6-c9634dc996cb button.colab-df-convert');\n",
              "        buttonEl.style.display =\n",
              "          google.colab.kernel.accessAllowed ? 'block' : 'none';\n",
              "\n",
              "        async function convertToInteractive(key) {\n",
              "          const element = document.querySelector('#df-a54d4f7a-3f1b-4630-b2f6-c9634dc996cb');\n",
              "          const dataTable =\n",
              "            await google.colab.kernel.invokeFunction('convertToInteractive',\n",
              "                                                     [key], {});\n",
              "          if (!dataTable) return;\n",
              "\n",
              "          const docLinkHtml = 'Like what you see? Visit the ' +\n",
              "            '<a target=\"_blank\" href=https://colab.research.google.com/notebooks/data_table.ipynb>data table notebook</a>'\n",
              "            + ' to learn more about interactive tables.';\n",
              "          element.innerHTML = '';\n",
              "          dataTable['output_type'] = 'display_data';\n",
              "          await google.colab.output.renderOutput(dataTable, element);\n",
              "          const docLink = document.createElement('div');\n",
              "          docLink.innerHTML = docLinkHtml;\n",
              "          element.appendChild(docLink);\n",
              "        }\n",
              "      </script>\n",
              "    </div>\n",
              "  </div>\n",
              "  "
            ]
          },
          "metadata": {},
          "execution_count": 55
        }
      ]
    },
    {
      "cell_type": "code",
      "source": [
        "encoder = ce.BinaryEncoder(cols=['id_office'],return_df=True)\n",
        "all = encoder.fit_transform(all)"
      ],
      "metadata": {
        "id": "TJDXw91AO1Qj"
      },
      "execution_count": null,
      "outputs": []
    },
    {
      "cell_type": "code",
      "source": [
        "all['label']"
      ],
      "metadata": {
        "colab": {
          "base_uri": "https://localhost:8080/"
        },
        "id": "MWk5Wd_Kr1cA",
        "outputId": "59285dd6-a0d7-4836-e155-559f88ab77e1"
      },
      "execution_count": null,
      "outputs": [
        {
          "output_type": "execute_result",
          "data": {
            "text/plain": [
              "0        5.0\n",
              "1        4.0\n",
              "2        2.0\n",
              "3        5.0\n",
              "4        6.0\n",
              "        ... \n",
              "45631    NaN\n",
              "45632    NaN\n",
              "45633    NaN\n",
              "45634    NaN\n",
              "45635    NaN\n",
              "Name: label, Length: 45636, dtype: float64"
            ]
          },
          "metadata": {},
          "execution_count": 57
        }
      ]
    },
    {
      "cell_type": "code",
      "source": [
        "X_train = all[:27502]\n",
        "X_test = all[27502:]"
      ],
      "metadata": {
        "id": "-hK99VnRoihH"
      },
      "execution_count": null,
      "outputs": []
    },
    {
      "cell_type": "code",
      "source": [
        "%cd /content/sentence-transformers/\n",
        "from sentence_transformers import SentenceTransformer\n",
        "model = SentenceTransformer('/content/vn_sbert_deploy/phobert_base_mean_tokens_NLI_STS')"
      ],
      "metadata": {
        "id": "qiJPKDCMxqOv"
      },
      "execution_count": null,
      "outputs": []
    },
    {
      "cell_type": "code",
      "source": [
        "from sklearn.feature_extraction.text import CountVectorizer\n",
        "corpus = []\n",
        "for index, row in all.iterrows():\n",
        "    corpus.append(str(row['job/role']))\n",
        "from sklearn.feature_extraction.text import TfidfVectorizer\n",
        "vectorizer = TfidfVectorizer()\n",
        "X = vectorizer.fit_transform(corpus)\n",
        "result = X.toarray()"
      ],
      "metadata": {
        "id": "VQ_KEIPkw39X"
      },
      "execution_count": null,
      "outputs": []
    },
    {
      "cell_type": "code",
      "source": [
        "Y_train = X_train['label']\n",
        "X_train = X_train.drop(['label', 'id_bh', 'id', 'job/role', 'from_date', 'to_date'], axis = 1)\n",
        "\n",
        "X_test_id = X_test['id_bh']\n",
        "X_test_main = X_test.drop(['label', 'id_bh', 'id', 'job/role', 'from_date', 'to_date'], axis = 1)"
      ],
      "metadata": {
        "id": "C_cO4zr6CVeB"
      },
      "execution_count": null,
      "outputs": []
    },
    {
      "cell_type": "code",
      "source": [
        "vec = DictVectorizer()\n",
        "X_train = vec.fit_transform(X_train.to_dict('records')).toarray()\n",
        "X_test_main = vec.fit_transform(X_test_main.to_dict('records')).toarray()"
      ],
      "metadata": {
        "id": "fVYfylB86Wcp"
      },
      "execution_count": null,
      "outputs": []
    },
    {
      "cell_type": "code",
      "source": [
        "X_train = np.concatenate((X_train,result[:27502]),axis=1)\n",
        "X_test_main = np.concatenate((X_test_main,result[27502:]),axis=1)\n"
      ],
      "metadata": {
        "id": "HMOvdAnR_OHm"
      },
      "execution_count": null,
      "outputs": []
    },
    {
      "cell_type": "code",
      "source": [
        "Y_train"
      ],
      "metadata": {
        "id": "fhxZbzCLl8AS",
        "colab": {
          "base_uri": "https://localhost:8080/"
        },
        "outputId": "17e3d0c4-beb8-4eda-cba3-e0a895a09340"
      },
      "execution_count": null,
      "outputs": [
        {
          "output_type": "execute_result",
          "data": {
            "text/plain": [
              "0        5.0\n",
              "1        4.0\n",
              "2        2.0\n",
              "3        5.0\n",
              "4        6.0\n",
              "        ... \n",
              "27497    6.0\n",
              "27498    2.0\n",
              "27499    5.0\n",
              "27500    2.0\n",
              "27501    2.0\n",
              "Name: label, Length: 27502, dtype: float64"
            ]
          },
          "metadata": {},
          "execution_count": 63
        }
      ]
    },
    {
      "cell_type": "code",
      "source": [
        "from sklearn.model_selection import train_test_split\n",
        "X_train, X_test, Y_train, Y_test = train_test_split(X_train, Y_train, test_size=0.1, random_state=42)"
      ],
      "metadata": {
        "id": "9meH8v-qAq2M"
      },
      "execution_count": null,
      "outputs": []
    },
    {
      "cell_type": "code",
      "source": [
        "from xgboost import XGBClassifier\n",
        "from lightgbm import LGBMClassifier\n",
        "from sklearn.ensemble import RandomForestClassifier\n",
        "\n",
        "multi_model = LGBMClassifier()\n",
        "multi_model.fit(X_train, Y_train)"
      ],
      "metadata": {
        "colab": {
          "base_uri": "https://localhost:8080/"
        },
        "id": "feDbKbilrxux",
        "outputId": "30921bda-3b56-4645-c405-50ca46a082c1"
      },
      "execution_count": null,
      "outputs": [
        {
          "output_type": "execute_result",
          "data": {
            "text/plain": [
              "LGBMClassifier()"
            ]
          },
          "metadata": {},
          "execution_count": 76
        }
      ]
    },
    {
      "cell_type": "code",
      "source": [
        "prediction = multi_model.predict(X_test)"
      ],
      "metadata": {
        "id": "sugonloUAHDr"
      },
      "execution_count": null,
      "outputs": []
    },
    {
      "cell_type": "code",
      "source": [
        "from sklearn.metrics import classification_report, confusion_matrix, accuracy_score\n",
        "\n",
        "print(classification_report(Y_test,prediction))"
      ],
      "metadata": {
        "colab": {
          "base_uri": "https://localhost:8080/"
        },
        "id": "RfKgMEN_rz8P",
        "outputId": "f812abcb-397b-447f-b463-bf522788592d"
      },
      "execution_count": null,
      "outputs": [
        {
          "output_type": "stream",
          "name": "stdout",
          "text": [
            "              precision    recall  f1-score   support\n",
            "\n",
            "         1.0       1.00      0.75      0.86        12\n",
            "         2.0       0.94      0.93      0.93       988\n",
            "         3.0       0.94      0.92      0.93       428\n",
            "         4.0       0.92      0.95      0.93       775\n",
            "         5.0       0.97      0.93      0.95       251\n",
            "         6.0       0.91      0.91      0.91       294\n",
            "         7.0       0.50      0.33      0.40         3\n",
            "\n",
            "    accuracy                           0.93      2751\n",
            "   macro avg       0.88      0.82      0.84      2751\n",
            "weighted avg       0.93      0.93      0.93      2751\n",
            "\n"
          ]
        }
      ]
    },
    {
      "cell_type": "code",
      "source": [
        "prediction = multi_model.predict(X_test_main)"
      ],
      "metadata": {
        "id": "m0LbGHJ-ILZn"
      },
      "execution_count": null,
      "outputs": []
    },
    {
      "cell_type": "code",
      "source": [
        "guess = pd.DataFrame()\n",
        "guess['id_bh'] = X_test_id\n",
        "guess['label'] = list(map(int, prediction))\n",
        "guess"
      ],
      "metadata": {
        "colab": {
          "base_uri": "https://localhost:8080/",
          "height": 424
        },
        "id": "U29Oo5GbImrN",
        "outputId": "c2ed6829-43a9-4eab-ae82-f97c9c28a35c"
      },
      "execution_count": null,
      "outputs": [
        {
          "output_type": "execute_result",
          "data": {
            "text/plain": [
              "            id_bh  label\n",
              "27502   100000688      2\n",
              "27503   100005503      2\n",
              "27504   100006307      5\n",
              "27505   100008625      6\n",
              "27506   100009238      3\n",
              "...           ...    ...\n",
              "45631  9714758429      4\n",
              "45632  9714758435      4\n",
              "45633  9715056070      4\n",
              "45634  9715637756      5\n",
              "45635  9716003602      2\n",
              "\n",
              "[18134 rows x 2 columns]"
            ],
            "text/html": [
              "\n",
              "  <div id=\"df-1ef17ee0-e68d-43d3-886b-1e6cd4f97369\">\n",
              "    <div class=\"colab-df-container\">\n",
              "      <div>\n",
              "<style scoped>\n",
              "    .dataframe tbody tr th:only-of-type {\n",
              "        vertical-align: middle;\n",
              "    }\n",
              "\n",
              "    .dataframe tbody tr th {\n",
              "        vertical-align: top;\n",
              "    }\n",
              "\n",
              "    .dataframe thead th {\n",
              "        text-align: right;\n",
              "    }\n",
              "</style>\n",
              "<table border=\"1\" class=\"dataframe\">\n",
              "  <thead>\n",
              "    <tr style=\"text-align: right;\">\n",
              "      <th></th>\n",
              "      <th>id_bh</th>\n",
              "      <th>label</th>\n",
              "    </tr>\n",
              "  </thead>\n",
              "  <tbody>\n",
              "    <tr>\n",
              "      <th>27502</th>\n",
              "      <td>100000688</td>\n",
              "      <td>2</td>\n",
              "    </tr>\n",
              "    <tr>\n",
              "      <th>27503</th>\n",
              "      <td>100005503</td>\n",
              "      <td>2</td>\n",
              "    </tr>\n",
              "    <tr>\n",
              "      <th>27504</th>\n",
              "      <td>100006307</td>\n",
              "      <td>5</td>\n",
              "    </tr>\n",
              "    <tr>\n",
              "      <th>27505</th>\n",
              "      <td>100008625</td>\n",
              "      <td>6</td>\n",
              "    </tr>\n",
              "    <tr>\n",
              "      <th>27506</th>\n",
              "      <td>100009238</td>\n",
              "      <td>3</td>\n",
              "    </tr>\n",
              "    <tr>\n",
              "      <th>...</th>\n",
              "      <td>...</td>\n",
              "      <td>...</td>\n",
              "    </tr>\n",
              "    <tr>\n",
              "      <th>45631</th>\n",
              "      <td>9714758429</td>\n",
              "      <td>4</td>\n",
              "    </tr>\n",
              "    <tr>\n",
              "      <th>45632</th>\n",
              "      <td>9714758435</td>\n",
              "      <td>4</td>\n",
              "    </tr>\n",
              "    <tr>\n",
              "      <th>45633</th>\n",
              "      <td>9715056070</td>\n",
              "      <td>4</td>\n",
              "    </tr>\n",
              "    <tr>\n",
              "      <th>45634</th>\n",
              "      <td>9715637756</td>\n",
              "      <td>5</td>\n",
              "    </tr>\n",
              "    <tr>\n",
              "      <th>45635</th>\n",
              "      <td>9716003602</td>\n",
              "      <td>2</td>\n",
              "    </tr>\n",
              "  </tbody>\n",
              "</table>\n",
              "<p>18134 rows × 2 columns</p>\n",
              "</div>\n",
              "      <button class=\"colab-df-convert\" onclick=\"convertToInteractive('df-1ef17ee0-e68d-43d3-886b-1e6cd4f97369')\"\n",
              "              title=\"Convert this dataframe to an interactive table.\"\n",
              "              style=\"display:none;\">\n",
              "        \n",
              "  <svg xmlns=\"http://www.w3.org/2000/svg\" height=\"24px\"viewBox=\"0 0 24 24\"\n",
              "       width=\"24px\">\n",
              "    <path d=\"M0 0h24v24H0V0z\" fill=\"none\"/>\n",
              "    <path d=\"M18.56 5.44l.94 2.06.94-2.06 2.06-.94-2.06-.94-.94-2.06-.94 2.06-2.06.94zm-11 1L8.5 8.5l.94-2.06 2.06-.94-2.06-.94L8.5 2.5l-.94 2.06-2.06.94zm10 10l.94 2.06.94-2.06 2.06-.94-2.06-.94-.94-2.06-.94 2.06-2.06.94z\"/><path d=\"M17.41 7.96l-1.37-1.37c-.4-.4-.92-.59-1.43-.59-.52 0-1.04.2-1.43.59L10.3 9.45l-7.72 7.72c-.78.78-.78 2.05 0 2.83L4 21.41c.39.39.9.59 1.41.59.51 0 1.02-.2 1.41-.59l7.78-7.78 2.81-2.81c.8-.78.8-2.07 0-2.86zM5.41 20L4 18.59l7.72-7.72 1.47 1.35L5.41 20z\"/>\n",
              "  </svg>\n",
              "      </button>\n",
              "      \n",
              "  <style>\n",
              "    .colab-df-container {\n",
              "      display:flex;\n",
              "      flex-wrap:wrap;\n",
              "      gap: 12px;\n",
              "    }\n",
              "\n",
              "    .colab-df-convert {\n",
              "      background-color: #E8F0FE;\n",
              "      border: none;\n",
              "      border-radius: 50%;\n",
              "      cursor: pointer;\n",
              "      display: none;\n",
              "      fill: #1967D2;\n",
              "      height: 32px;\n",
              "      padding: 0 0 0 0;\n",
              "      width: 32px;\n",
              "    }\n",
              "\n",
              "    .colab-df-convert:hover {\n",
              "      background-color: #E2EBFA;\n",
              "      box-shadow: 0px 1px 2px rgba(60, 64, 67, 0.3), 0px 1px 3px 1px rgba(60, 64, 67, 0.15);\n",
              "      fill: #174EA6;\n",
              "    }\n",
              "\n",
              "    [theme=dark] .colab-df-convert {\n",
              "      background-color: #3B4455;\n",
              "      fill: #D2E3FC;\n",
              "    }\n",
              "\n",
              "    [theme=dark] .colab-df-convert:hover {\n",
              "      background-color: #434B5C;\n",
              "      box-shadow: 0px 1px 3px 1px rgba(0, 0, 0, 0.15);\n",
              "      filter: drop-shadow(0px 1px 2px rgba(0, 0, 0, 0.3));\n",
              "      fill: #FFFFFF;\n",
              "    }\n",
              "  </style>\n",
              "\n",
              "      <script>\n",
              "        const buttonEl =\n",
              "          document.querySelector('#df-1ef17ee0-e68d-43d3-886b-1e6cd4f97369 button.colab-df-convert');\n",
              "        buttonEl.style.display =\n",
              "          google.colab.kernel.accessAllowed ? 'block' : 'none';\n",
              "\n",
              "        async function convertToInteractive(key) {\n",
              "          const element = document.querySelector('#df-1ef17ee0-e68d-43d3-886b-1e6cd4f97369');\n",
              "          const dataTable =\n",
              "            await google.colab.kernel.invokeFunction('convertToInteractive',\n",
              "                                                     [key], {});\n",
              "          if (!dataTable) return;\n",
              "\n",
              "          const docLinkHtml = 'Like what you see? Visit the ' +\n",
              "            '<a target=\"_blank\" href=https://colab.research.google.com/notebooks/data_table.ipynb>data table notebook</a>'\n",
              "            + ' to learn more about interactive tables.';\n",
              "          element.innerHTML = '';\n",
              "          dataTable['output_type'] = 'display_data';\n",
              "          await google.colab.output.renderOutput(dataTable, element);\n",
              "          const docLink = document.createElement('div');\n",
              "          docLink.innerHTML = docLinkHtml;\n",
              "          element.appendChild(docLink);\n",
              "        }\n",
              "      </script>\n",
              "    </div>\n",
              "  </div>\n",
              "  "
            ]
          },
          "metadata": {},
          "execution_count": 74
        }
      ]
    },
    {
      "cell_type": "code",
      "source": [
        "guess.to_csv(\"prediction.csv\", index=False)"
      ],
      "metadata": {
        "id": "bd8meE2AJ89P"
      },
      "execution_count": null,
      "outputs": []
    },
    {
      "cell_type": "code",
      "source": [
        "from sklearn.metrics import classification_report, confusion_matrix, accuracy_score\n",
        "test = pd.read_csv('/content/drive/MyDrive/Colab Notebooks/prediction-multimodal-timeseries.csv')\n",
        "test = test.sort_values(['id_bh'])\n",
        "test = test.reset_index(drop=True)\n",
        "test = test['label']\n",
        "\n",
        "print(classification_report(test,prediction))"
      ],
      "metadata": {
        "colab": {
          "base_uri": "https://localhost:8080/"
        },
        "id": "Ft3FI5xJsdhx",
        "outputId": "052bf171-f108-494d-8320-e4495576cab7"
      },
      "execution_count": null,
      "outputs": [
        {
          "output_type": "stream",
          "name": "stdout",
          "text": [
            "              precision    recall  f1-score   support\n",
            "\n",
            "           1       0.86      0.46      0.60        52\n",
            "           2       0.93      0.93      0.93      6650\n",
            "           3       0.94      0.89      0.91      2332\n",
            "           4       0.90      0.95      0.92      5314\n",
            "           5       0.91      0.94      0.92      1679\n",
            "           6       0.90      0.84      0.87      2072\n",
            "           7       1.00      0.31      0.48        35\n",
            "\n",
            "    accuracy                           0.92     18134\n",
            "   macro avg       0.92      0.76      0.81     18134\n",
            "weighted avg       0.92      0.92      0.92     18134\n",
            "\n"
          ]
        }
      ]
    }
  ]
}
